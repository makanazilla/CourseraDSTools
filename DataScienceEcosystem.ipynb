{
 "cells": [
  {
   "cell_type": "markdown",
   "id": "8574b765-fafb-4290-8f27-07030071752c",
   "metadata": {},
   "source": [
    "# Data Science Tools and Ecosystem"
   ]
  },
  {
   "cell_type": "markdown",
   "id": "c4017621-5630-4c80-9b54-701bd1cd0e05",
   "metadata": {},
   "source": [
    "In this notebook, Data Science Tools and Ecosystem are summarized."
   ]
  },
  {
   "cell_type": "markdown",
   "id": "2f4066b0-8c27-4196-9914-3a649071a82c",
   "metadata": {},
   "source": [
    "**Objectives:**\n",
    "- Descire the components of Data Scientist's toolkit and list various tools and categories\n",
    "- Identify criteria and roles for determining the language to learn\n",
    "- Explore ML models in the Model Learning Exchange\n",
    "- Describe how to use the notebooks in JupyterLab\n",
    "- Use the inbuilt R plot Function\n",
    "- Demonstrate how to edit and upload files in GitHub\n",
    "- Share you Jupyter Notebook publicaly on Github"
   ]
  },
  {
   "cell_type": "markdown",
   "id": "94e3e507-15cb-4004-b93f-c7ff610c68f1",
   "metadata": {},
   "source": [
    "Some of the popular languages that Data Scientists use are:\n",
    "1. Python\n",
    "2. R\n",
    "3. Julia"
   ]
  },
  {
   "cell_type": "markdown",
   "id": "25a68748-3836-4bb2-8119-5fbf91d39dd7",
   "metadata": {},
   "source": [
    "Some of the commonly used libraries used by Data Scientists include:\n",
    "1. Pandas\n",
    "2. Matplotlib\n",
    "3. NumPy"
   ]
  },
  {
   "cell_type": "markdown",
   "id": "3e83c026-4df4-426e-a251-b8379b8a68f9",
   "metadata": {},
   "source": [
    "|Data Science Tools|\n",
    "--------------------\n",
    "|Jupyter Noteboks |\n",
    "|RStudio| \n",
    "|Zepplin Notebooks|"
   ]
  },
  {
   "cell_type": "markdown",
   "id": "39653cda-9689-4e5c-b542-509c9b349326",
   "metadata": {},
   "source": [
    "### Below are a few examples of evaluating arithmetic expressions in Python\n"
   ]
  },
  {
   "cell_type": "code",
   "execution_count": 2,
   "id": "531f2369-c993-4049-941f-c60930e1978f",
   "metadata": {},
   "outputs": [
    {
     "data": {
      "text/plain": [
       "17"
      ]
     },
     "execution_count": 2,
     "metadata": {},
     "output_type": "execute_result"
    }
   ],
   "source": [
    "# This is a simple arithmetic expression to multiply then add integers\n",
    "(3*4)+5"
   ]
  },
  {
   "cell_type": "code",
   "execution_count": 3,
   "id": "a92f9309-806a-4438-b358-ea66dad988ee",
   "metadata": {},
   "outputs": [
    {
     "data": {
      "text/plain": [
       "3.3333333333333335"
      ]
     },
     "execution_count": 3,
     "metadata": {},
     "output_type": "execute_result"
    }
   ],
   "source": [
    "# This will convert 200 minutes to hours by dividing by 60\n",
    "200/60"
   ]
  },
  {
   "cell_type": "markdown",
   "id": "316d18ea-17a4-41a4-82e9-b60af85c8cba",
   "metadata": {},
   "source": [
    "## Author\n",
    "Ma"
   ]
  }
 ],
 "metadata": {
  "kernelspec": {
   "display_name": "Python 3 (ipykernel)",
   "language": "python",
   "name": "python3"
  },
  "language_info": {
   "codemirror_mode": {
    "name": "ipython",
    "version": 3
   },
   "file_extension": ".py",
   "mimetype": "text/x-python",
   "name": "python",
   "nbconvert_exporter": "python",
   "pygments_lexer": "ipython3",
   "version": "3.9.7"
  }
 },
 "nbformat": 4,
 "nbformat_minor": 5
}
